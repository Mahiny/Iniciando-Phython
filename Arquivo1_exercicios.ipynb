{
  "nbformat": 4,
  "nbformat_minor": 0,
  "metadata": {
    "colab": {
      "name": "Arquivo1.ipynb",
      "provenance": [],
      "mount_file_id": "1k6LlAVuoYR55J9c8O_xP_zt4wYwQ_5fG",
      "authorship_tag": "ABX9TyMLxtZiZq8w9lvvIrTUDehM"
    },
    "kernelspec": {
      "name": "python3",
      "display_name": "Python 3"
    },
    "language_info": {
      "name": "python"
    }
  },
  "cells": [
    {
      "cell_type": "code",
      "execution_count": null,
      "metadata": {
        "id": "QkyBB4a3YB6r"
      },
      "outputs": [],
      "source": [
        ""
      ]
    },
    {
      "cell_type": "code",
      "source": [
        "print('Olá, mundo!');\n",
        "print(3+2);\n",
        "print();\n",
        "print('Tudo bem?');\n",
        "\n"
      ],
      "metadata": {
        "colab": {
          "base_uri": "https://localhost:8080/"
        },
        "id": "aPnCp56xfjKX",
        "outputId": "58e3e8df-b0ae-4d88-bc52-cdd99aa62c37"
      },
      "execution_count": null,
      "outputs": [
        {
          "output_type": "stream",
          "name": "stdout",
          "text": [
            "Olá, mundo!\n",
            "5\n",
            "\n",
            "Tudo bem?\n"
          ]
        }
      ]
    },
    {
      "cell_type": "markdown",
      "source": [
        ""
      ],
      "metadata": {
        "id": "iZJdAAg7qDbU"
      }
    },
    {
      "cell_type": "code",
      "source": [
        "print('Olá, gente!!!')\n",
        "print(\"1+1\")\n",
        "print(\" \")\n",
        "print(1+5)\n"
      ],
      "metadata": {
        "colab": {
          "base_uri": "https://localhost:8080/"
        },
        "id": "sx8_H6aNqEc5",
        "outputId": "4c9c9663-0f71-4ab0-ec5d-ca41c9cca23a"
      },
      "execution_count": null,
      "outputs": [
        {
          "output_type": "stream",
          "name": "stdout",
          "text": [
            "Olá, gente!!!\n",
            "1+1\n",
            " \n",
            "6\n"
          ]
        }
      ]
    },
    {
      "cell_type": "code",
      "source": [
        "batataPreco = 5.60\n",
        "cocaPreco = 2\n",
        "print(batataPreco + cocaPreco)\n",
        "print(batataPreco - cocaPreco)\n",
        "\n",
        "print('O valor total do seu pedido é R$', batataPreco + cocaPreco)"
      ],
      "metadata": {
        "colab": {
          "base_uri": "https://localhost:8080/"
        },
        "id": "V1THQg7REUUn",
        "outputId": "ad24bcfe-98cf-45cf-8a62-3cd96e8544d7"
      },
      "execution_count": null,
      "outputs": [
        {
          "output_type": "stream",
          "name": "stdout",
          "text": [
            "7.6\n",
            "3.5999999999999996\n",
            "O valor total do seu pedido é R$ 7.6\n"
          ]
        }
      ]
    },
    {
      "cell_type": "code",
      "source": [
        "# Quanto fica pedir um lanche e uma batata?\n",
        "# Considere a forma de pagamento pelo cartão.\n",
        "\n",
        "lanchePreco = 5.00\n",
        "batataPreco = 4.00\n",
        "pgto = \"cartao\"\n",
        "totalPreco = lanchePreco + batataPreco\n",
        "\n",
        "print(\"O valor que fica em pedir um lache e uma batata é igual a R$\", totalPreco)\n",
        "print(\"a forma de pagamento do lanche e uma batata será por meio do\", pgto)\n",
        "\n",
        "\n"
      ],
      "metadata": {
        "colab": {
          "base_uri": "https://localhost:8080/"
        },
        "id": "xTsZvEvHus-a",
        "outputId": "16098e22-be7d-47cf-8467-5af0556b9a79"
      },
      "execution_count": null,
      "outputs": [
        {
          "output_type": "stream",
          "name": "stdout",
          "text": [
            "O valor que fica em pedir um lache e uma batata é igual a R$ 9.0\n",
            "a forma de pagamento do lanche e uma batata será por meio do cartao\n"
          ]
        }
      ]
    },
    {
      "cell_type": "code",
      "source": [
        "# input\n",
        "lancheNome = input('qual lanche voce quer? ')\n",
        "print('o lanche escolhido foi', lancheNome)\n"
      ],
      "metadata": {
        "colab": {
          "base_uri": "https://localhost:8080/"
        },
        "id": "LhPcll-fe0Kn",
        "outputId": "40bc6522-1710-4177-8943-2129ae31fa17"
      },
      "execution_count": null,
      "outputs": [
        {
          "output_type": "stream",
          "name": "stdout",
          "text": [
            "qual lanche voce quer? bacon b\n",
            "o lanche escolhido foi bacon b\n"
          ]
        }
      ]
    },
    {
      "cell_type": "code",
      "source": [
        "# Numerais\n",
        "\n",
        "print(\"*\"*50)\n",
        "print(\"                    Bem-vindo!                   \")\n",
        "print(\"*\" *50)\n",
        "print(\"    Hoje é sexta-feira! aproveite sua noite!                \")\n",
        "print(\"*\"*50) "
      ],
      "metadata": {
        "colab": {
          "base_uri": "https://localhost:8080/"
        },
        "id": "yqYDBOfH0trH",
        "outputId": "931bdc1e-2dac-4d69-d1ff-7a912abf04d9"
      },
      "execution_count": null,
      "outputs": [
        {
          "output_type": "stream",
          "name": "stdout",
          "text": [
            "**************************************************\n",
            "                    Bem-vindo!                   \n",
            "**************************************************\n",
            "    Hoje é sexta-feira! aproveite sua noite!                \n",
            "**************************************************\n"
          ]
        }
      ]
    },
    {
      "cell_type": "code",
      "source": [
        "\n",
        "\n",
        "\n",
        "\n",
        "\n"
      ],
      "metadata": {
        "colab": {
          "base_uri": "https://localhost:8080/"
        },
        "id": "ocWoWalt-Sks",
        "outputId": "66ba6809-5daf-49d9-9865-b57d41a99ae7"
      },
      "execution_count": null,
      "outputs": [
        {
          "output_type": "execute_result",
          "data": {
            "text/plain": [
              "1.0"
            ]
          },
          "metadata": {},
          "execution_count": 16
        }
      ]
    }
  ]
}